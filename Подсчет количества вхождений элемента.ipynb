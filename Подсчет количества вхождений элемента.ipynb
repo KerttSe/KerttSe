{
 "cells": [
  {
   "cell_type": "code",
   "execution_count": 3,
   "id": "eastern-south",
   "metadata": {},
   "outputs": [],
   "source": [
    "responses = [1, 2, 3, 4,213,7462,12,4,7,\n",
    "             4,6,7,7462,723,]"
   ]
  },
  {
   "cell_type": "code",
   "execution_count": 4,
   "id": "distributed-container",
   "metadata": {},
   "outputs": [
    {
     "name": "stdout",
     "output_type": "stream",
     "text": [
      "1 appears 1 times in responses\n",
      "2 appears 1 times in responses\n",
      "3 appears 1 times in responses\n",
      "4 appears 3 times in responses\n",
      "5 appears 0 times in responses\n"
     ]
    }
   ],
   "source": [
    "for i in range(1,6):\n",
    "    print(f'{i} appears {responses.count(i)} times in responses')"
   ]
  },
  {
   "cell_type": "code",
   "execution_count": null,
   "id": "tropical-reproduction",
   "metadata": {},
   "outputs": [],
   "source": [
    "print(f'{appears {responses.count(i)} times in responses')"
   ]
  }
 ],
 "metadata": {
  "kernelspec": {
   "display_name": "Python 3",
   "language": "python",
   "name": "python3"
  },
  "language_info": {
   "codemirror_mode": {
    "name": "ipython",
    "version": 3
   },
   "file_extension": ".py",
   "mimetype": "text/x-python",
   "name": "python",
   "nbconvert_exporter": "python",
   "pygments_lexer": "ipython3",
   "version": "3.8.5"
  }
 },
 "nbformat": 4,
 "nbformat_minor": 5
}
