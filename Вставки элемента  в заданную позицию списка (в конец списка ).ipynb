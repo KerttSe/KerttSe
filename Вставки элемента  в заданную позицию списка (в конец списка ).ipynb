{
 "cells": [
  {
   "cell_type": "code",
   "execution_count": 1,
   "id": "altered-boston",
   "metadata": {},
   "outputs": [],
   "source": [
    "color_names = ['orange', 'yellow', 'green']\n"
   ]
  },
  {
   "cell_type": "code",
   "execution_count": 2,
   "id": "grand-sphere",
   "metadata": {},
   "outputs": [
    {
     "data": {
      "text/plain": [
       "['orange', 'yellow', 'green']"
      ]
     },
     "execution_count": 2,
     "metadata": {},
     "output_type": "execute_result"
    }
   ],
   "source": [
    "color_names"
   ]
  },
  {
   "cell_type": "code",
   "execution_count": 3,
   "id": "coral-service",
   "metadata": {},
   "outputs": [],
   "source": [
    "color_names.insert(0, 'red')"
   ]
  },
  {
   "cell_type": "code",
   "execution_count": 4,
   "id": "dominant-tractor",
   "metadata": {},
   "outputs": [
    {
     "data": {
      "text/plain": [
       "['red', 'orange', 'yellow', 'green']"
      ]
     },
     "execution_count": 4,
     "metadata": {},
     "output_type": "execute_result"
    }
   ],
   "source": [
    "color_names"
   ]
  },
  {
   "cell_type": "code",
   "execution_count": 5,
   "id": "fifty-writer",
   "metadata": {},
   "outputs": [],
   "source": [
    "color_names.append('blue')"
   ]
  },
  {
   "cell_type": "code",
   "execution_count": 6,
   "id": "floating-melbourne",
   "metadata": {},
   "outputs": [
    {
     "data": {
      "text/plain": [
       "['red', 'orange', 'yellow', 'green', 'blue']"
      ]
     },
     "execution_count": 6,
     "metadata": {},
     "output_type": "execute_result"
    }
   ],
   "source": [
    "color_names"
   ]
  },
  {
   "cell_type": "code",
   "execution_count": 7,
   "id": "entertaining-rolling",
   "metadata": {},
   "outputs": [],
   "source": [
    "color_names.extend(['indigo', 'violet'])"
   ]
  },
  {
   "cell_type": "code",
   "execution_count": 8,
   "id": "amazing-madagascar",
   "metadata": {},
   "outputs": [
    {
     "data": {
      "text/plain": [
       "['red', 'orange', 'yellow', 'green', 'blue', 'indigo', 'violet']"
      ]
     },
     "execution_count": 8,
     "metadata": {},
     "output_type": "execute_result"
    }
   ],
   "source": [
    "color_names"
   ]
  },
  {
   "cell_type": "code",
   "execution_count": 9,
   "id": "absent-worst",
   "metadata": {},
   "outputs": [],
   "source": [
    "color_names.remove('green')"
   ]
  },
  {
   "cell_type": "code",
   "execution_count": 10,
   "id": "ambient-ensemble",
   "metadata": {},
   "outputs": [
    {
     "data": {
      "text/plain": [
       "['red', 'orange', 'yellow', 'blue', 'indigo', 'violet']"
      ]
     },
     "execution_count": 10,
     "metadata": {},
     "output_type": "execute_result"
    }
   ],
   "source": [
    "color_names"
   ]
  },
  {
   "cell_type": "code",
   "execution_count": 11,
   "id": "silver-debut",
   "metadata": {},
   "outputs": [],
   "source": [
    "color_names.clear()"
   ]
  },
  {
   "cell_type": "code",
   "execution_count": 12,
   "id": "considered-wallet",
   "metadata": {},
   "outputs": [
    {
     "data": {
      "text/plain": [
       "[]"
      ]
     },
     "execution_count": 12,
     "metadata": {},
     "output_type": "execute_result"
    }
   ],
   "source": [
    "color_names"
   ]
  },
  {
   "cell_type": "code",
   "execution_count": 13,
   "id": "adaptive-south",
   "metadata": {},
   "outputs": [],
   "source": [
    "color_names[:] = []"
   ]
  },
  {
   "cell_type": "code",
   "execution_count": 14,
   "id": "handmade-express",
   "metadata": {},
   "outputs": [],
   "source": [
    "color_names = ['red','orange','yellow','green','blue']"
   ]
  },
  {
   "cell_type": "code",
   "execution_count": 16,
   "id": "descending-photographer",
   "metadata": {},
   "outputs": [],
   "source": [
    "color_names.reverse()"
   ]
  },
  {
   "cell_type": "code",
   "execution_count": 17,
   "id": "invisible-savings",
   "metadata": {},
   "outputs": [
    {
     "data": {
      "text/plain": [
       "['blue', 'green', 'yellow', 'orange', 'red']"
      ]
     },
     "execution_count": 17,
     "metadata": {},
     "output_type": "execute_result"
    }
   ],
   "source": [
    "color_names"
   ]
  },
  {
   "cell_type": "code",
   "execution_count": 18,
   "id": "civil-spectacular",
   "metadata": {},
   "outputs": [],
   "source": [
    "copied_list = color_names.copy()"
   ]
  },
  {
   "cell_type": "code",
   "execution_count": 19,
   "id": "immune-visibility",
   "metadata": {},
   "outputs": [
    {
     "data": {
      "text/plain": [
       "['blue', 'green', 'yellow', 'orange', 'red']"
      ]
     },
     "execution_count": 19,
     "metadata": {},
     "output_type": "execute_result"
    }
   ],
   "source": [
    "copied_list"
   ]
  },
  {
   "cell_type": "code",
   "execution_count": null,
   "id": "alien-price",
   "metadata": {},
   "outputs": [],
   "source": []
  }
 ],
 "metadata": {
  "kernelspec": {
   "display_name": "Python 3",
   "language": "python",
   "name": "python3"
  },
  "language_info": {
   "codemirror_mode": {
    "name": "ipython",
    "version": 3
   },
   "file_extension": ".py",
   "mimetype": "text/x-python",
   "name": "python",
   "nbconvert_exporter": "python",
   "pygments_lexer": "ipython3",
   "version": "3.8.5"
  }
 },
 "nbformat": 4,
 "nbformat_minor": 5
}
