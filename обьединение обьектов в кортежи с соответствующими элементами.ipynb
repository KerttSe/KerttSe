{
 "cells": [
  {
   "cell_type": "code",
   "execution_count": 1,
   "id": "96e8e606",
   "metadata": {},
   "outputs": [],
   "source": [
    " names = ['Bob','Sue','Amanda']"
   ]
  },
  {
   "cell_type": "code",
   "execution_count": 2,
   "id": "29917891",
   "metadata": {},
   "outputs": [],
   "source": [
    "grade_point_averages = [3.5, 4.0, 3.75]"
   ]
  },
  {
   "cell_type": "code",
   "execution_count": 3,
   "id": "06fef159",
   "metadata": {},
   "outputs": [
    {
     "name": "stdout",
     "output_type": "stream",
     "text": [
      "Name=Bob; GPA=3.5\n",
      "Name=Sue; GPA=4.0\n",
      "Name=Amanda; GPA=3.75\n"
     ]
    }
   ],
   "source": [
    "for name,gpa in zip(names,grade_point_averages):\n",
    "    print(f'Name={name}; GPA={gpa}')"
   ]
  },
  {
   "cell_type": "code",
   "execution_count": null,
   "id": "7e5e1d95",
   "metadata": {},
   "outputs": [],
   "source": []
  }
 ],
 "metadata": {
  "kernelspec": {
   "display_name": "Python 3",
   "language": "python",
   "name": "python3"
  },
  "language_info": {
   "codemirror_mode": {
    "name": "ipython",
    "version": 3
   },
   "file_extension": ".py",
   "mimetype": "text/x-python",
   "name": "python",
   "nbconvert_exporter": "python",
   "pygments_lexer": "ipython3",
   "version": "3.8.5"
  }
 },
 "nbformat": 4,
 "nbformat_minor": 5
}
