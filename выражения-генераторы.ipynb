{
 "cells": [
  {
   "cell_type": "code",
   "execution_count": 1,
   "id": "civilian-complex",
   "metadata": {},
   "outputs": [],
   "source": [
    "numbers = [10,3,7,6,7,921,4,123,51,21,37,2]\n"
   ]
  },
  {
   "cell_type": "code",
   "execution_count": 3,
   "id": "marine-tucson",
   "metadata": {},
   "outputs": [
    {
     "name": "stdout",
     "output_type": "stream",
     "text": [
      "9  49  49  848241  15129  2601  441  1369  "
     ]
    }
   ],
   "source": [
    "for value in(x ** 2 for x in numbers if x % 2 != 0):\n",
    "    print(value, end='  ')"
   ]
  },
  {
   "cell_type": "code",
   "execution_count": null,
   "id": "welcome-dialogue",
   "metadata": {},
   "outputs": [],
   "source": []
  }
 ],
 "metadata": {
  "kernelspec": {
   "display_name": "Python 3",
   "language": "python",
   "name": "python3"
  },
  "language_info": {
   "codemirror_mode": {
    "name": "ipython",
    "version": 3
   },
   "file_extension": ".py",
   "mimetype": "text/x-python",
   "name": "python",
   "nbconvert_exporter": "python",
   "pygments_lexer": "ipython3",
   "version": "3.8.5"
  }
 },
 "nbformat": 4,
 "nbformat_minor": 5
}
